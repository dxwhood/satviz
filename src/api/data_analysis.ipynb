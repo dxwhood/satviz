{
 "cells": [
  {
   "cell_type": "code",
   "execution_count": 8,
   "metadata": {},
   "outputs": [],
   "source": [
    "import os\n",
    "import json\n",
    "import sys \n",
    "\n",
    "# Set the base directory path\n",
    "base_dir = os.path.abspath(os.path.join(os.getcwd(), \"../../\"))\n",
    "sys.path.append(base_dir)\n",
    "\n",
    "from src.utils import json_utils as ju"
   ]
  },
  {
   "cell_type": "code",
   "execution_count": 9,
   "metadata": {},
   "outputs": [],
   "source": [
    "gp_data_path = \"/Users/damien/code/satviz/data/ST_gp_data.json\"\n",
    "\n",
    "with open(gp_data_path, 'r') as file:\n",
    "    gp_data = json.load(file)\n"
   ]
  },
  {
   "cell_type": "code",
   "execution_count": 10,
   "metadata": {},
   "outputs": [
    {
     "name": "stdout",
     "output_type": "stream",
     "text": [
      "List of dict\n",
      "    CCSDS_OMM_VERS: str\n",
      "    COMMENT: str\n",
      "    CREATION_DATE: str\n",
      "    ORIGINATOR: str\n",
      "    OBJECT_NAME: str\n",
      "    OBJECT_ID: str\n",
      "    CENTER_NAME: str\n",
      "    REF_FRAME: str\n",
      "    TIME_SYSTEM: str\n",
      "    MEAN_ELEMENT_THEORY: str\n",
      "    EPOCH: str\n",
      "    MEAN_MOTION: str\n",
      "    ECCENTRICITY: str\n",
      "    INCLINATION: str\n",
      "    RA_OF_ASC_NODE: str\n",
      "    ARG_OF_PERICENTER: str\n",
      "    MEAN_ANOMALY: str\n",
      "    EPHEMERIS_TYPE: str\n",
      "    CLASSIFICATION_TYPE: str\n",
      "    NORAD_CAT_ID: str\n",
      "    ELEMENT_SET_NO: str\n",
      "    REV_AT_EPOCH: str\n",
      "    BSTAR: str\n",
      "    MEAN_MOTION_DOT: str\n",
      "    MEAN_MOTION_DDOT: str\n",
      "    SEMIMAJOR_AXIS: str\n",
      "    PERIOD: str\n",
      "    APOAPSIS: str\n",
      "    PERIAPSIS: str\n",
      "    OBJECT_TYPE: str\n",
      "    RCS_SIZE: str\n",
      "    COUNTRY_CODE: str\n",
      "    LAUNCH_DATE: str\n",
      "    SITE: str\n",
      "    DECAY_DATE: NoneType\n",
      "    FILE: str\n",
      "    GP_ID: str\n",
      "    TLE_LINE0: str\n",
      "    TLE_LINE1: str\n",
      "    TLE_LINE2: str\n"
     ]
    }
   ],
   "source": [
    "ju.schema(gp_data)\n"
   ]
  },
  {
   "cell_type": "code",
   "execution_count": 11,
   "metadata": {},
   "outputs": [
    {
     "name": "stdout",
     "output_type": "stream",
     "text": [
      "Sample 1: {'CCSDS_OMM_VERS': '3.0', 'COMMENT': 'GENERATED VIA SPACE-TRACK.ORG API', 'CREATION_DATE': '2024-07-14T19:15:06', 'ORIGINATOR': '18 SPCS', 'OBJECT_NAME': 'VANGUARD 1', 'OBJECT_ID': '1958-002B', 'CENTER_NAME': 'EARTH', 'REF_FRAME': 'TEME', 'TIME_SYSTEM': 'UTC', 'MEAN_ELEMENT_THEORY': 'SGP4', 'EPOCH': '2024-07-14T01:07:04.798848', 'MEAN_MOTION': '10.85472716', 'ECCENTRICITY': '0.18426570', 'INCLINATION': '34.2539', 'RA_OF_ASC_NODE': '324.3758', 'ARG_OF_PERICENTER': '208.5930', 'MEAN_ANOMALY': '140.0121', 'EPHEMERIS_TYPE': '0', 'CLASSIFICATION_TYPE': 'U', 'NORAD_CAT_ID': '5', 'ELEMENT_SET_NO': '999', 'REV_AT_EPOCH': '36684', 'BSTAR': '0.00122180000000', 'MEAN_MOTION_DOT': '0.00000981', 'MEAN_MOTION_DDOT': '0.0000000000000', 'SEMIMAJOR_AXIS': '8616.335', 'PERIOD': '132.661', 'APOAPSIS': '3825.895', 'PERIAPSIS': '650.505', 'OBJECT_TYPE': 'PAYLOAD', 'RCS_SIZE': 'SMALL', 'COUNTRY_CODE': 'US', 'LAUNCH_DATE': '1958-03-17', 'SITE': 'AFETR', 'DECAY_DATE': None, 'FILE': '4378423', 'GP_ID': '261993686', 'TLE_LINE0': '0 VANGUARD 1', 'TLE_LINE1': '1 00005U 58002B   24196.04658332  .00000981  00000-0  12218-2 0  9997', 'TLE_LINE2': '2 00005  34.2539 324.3758 1842657 208.5930 140.0121 10.85472716366842'}\n",
      "\n",
      "Sample 2: {'CCSDS_OMM_VERS': '3.0', 'COMMENT': 'GENERATED VIA SPACE-TRACK.ORG API', 'CREATION_DATE': '2024-07-14T14:46:23', 'ORIGINATOR': '18 SPCS', 'OBJECT_NAME': 'VANGUARD 2', 'OBJECT_ID': '1959-001A', 'CENTER_NAME': 'EARTH', 'REF_FRAME': 'TEME', 'TIME_SYSTEM': 'UTC', 'MEAN_ELEMENT_THEORY': 'SGP4', 'EPOCH': '2024-07-14T12:12:52.301088', 'MEAN_MOTION': '11.88522864', 'ECCENTRICITY': '0.14552670', 'INCLINATION': '32.8642', 'RA_OF_ASC_NODE': '221.1274', 'ARG_OF_PERICENTER': '23.2198', 'MEAN_ANOMALY': '342.7903', 'EPHEMERIS_TYPE': '0', 'CLASSIFICATION_TYPE': 'U', 'NORAD_CAT_ID': '11', 'ELEMENT_SET_NO': '999', 'REV_AT_EPOCH': '79350', 'BSTAR': '0.00064010000000', 'MEAN_MOTION_DOT': '0.00001209', 'MEAN_MOTION_DDOT': '0.0000000000000', 'SEMIMAJOR_AXIS': '8110.796', 'PERIOD': '121.159', 'APOAPSIS': '2912.998', 'PERIAPSIS': '552.324', 'OBJECT_TYPE': 'PAYLOAD', 'RCS_SIZE': 'MEDIUM', 'COUNTRY_CODE': 'US', 'LAUNCH_DATE': '1959-02-17', 'SITE': 'AFETR', 'DECAY_DATE': None, 'FILE': '4378036', 'GP_ID': '261987006', 'TLE_LINE0': '0 VANGUARD 2', 'TLE_LINE1': '1    11U 59001A   24196.50893867  .00001209  00000-0  64010-3 0  9991', 'TLE_LINE2': '2    11  32.8642 221.1274 1455267  23.2198 342.7903 11.88522864793500'}\n",
      "\n",
      "Sample 3: {'CCSDS_OMM_VERS': '3.0', 'COMMENT': 'GENERATED VIA SPACE-TRACK.ORG API', 'CREATION_DATE': '2024-07-14T19:15:06', 'ORIGINATOR': '18 SPCS', 'OBJECT_NAME': 'VANGUARD R/B', 'OBJECT_ID': '1959-001B', 'CENTER_NAME': 'EARTH', 'REF_FRAME': 'TEME', 'TIME_SYSTEM': 'UTC', 'MEAN_ELEMENT_THEORY': 'SGP4', 'EPOCH': '2024-07-14T07:34:43.169952', 'MEAN_MOTION': '11.46635137', 'ECCENTRICITY': '0.16540680', 'INCLINATION': '32.8981', 'RA_OF_ASC_NODE': '179.4360', 'ARG_OF_PERICENTER': '347.2236', 'MEAN_ANOMALY': '9.0870', 'EPHEMERIS_TYPE': '0', 'CLASSIFICATION_TYPE': 'U', 'NORAD_CAT_ID': '12', 'ELEMENT_SET_NO': '999', 'REV_AT_EPOCH': '45054', 'BSTAR': '0.00179460000000', 'MEAN_MOTION_DOT': '0.00003037', 'MEAN_MOTION_DDOT': '0.0000000000000', 'SEMIMAJOR_AXIS': '8307.143', 'PERIOD': '125.585', 'APOAPSIS': '3303.066', 'PERIAPSIS': '554.950', 'OBJECT_TYPE': 'ROCKET BODY', 'RCS_SIZE': 'MEDIUM', 'COUNTRY_CODE': 'US', 'LAUNCH_DATE': '1959-02-17', 'SITE': 'AFETR', 'DECAY_DATE': None, 'FILE': '4378423', 'GP_ID': '261993687', 'TLE_LINE0': '0 VANGUARD R/B', 'TLE_LINE1': '1 00012U 59001B   24196.31577743  .00003037  00000-0  17946-2 0  9999', 'TLE_LINE2': '2 00012  32.8981 179.4360 1654068 347.2236   9.0870 11.46635137450542'}\n",
      "\n",
      "Sample 4: {'CCSDS_OMM_VERS': '3.0', 'COMMENT': 'GENERATED VIA SPACE-TRACK.ORG API', 'CREATION_DATE': '2024-07-14T19:15:06', 'ORIGINATOR': '18 SPCS', 'OBJECT_NAME': 'VANGUARD R/B', 'OBJECT_ID': '1958-002A', 'CENTER_NAME': 'EARTH', 'REF_FRAME': 'TEME', 'TIME_SYSTEM': 'UTC', 'MEAN_ELEMENT_THEORY': 'SGP4', 'EPOCH': '2024-07-14T07:31:40.859040', 'MEAN_MOTION': '10.49319259', 'ECCENTRICITY': '0.20249440', 'INCLINATION': '34.2584', 'RA_OF_ASC_NODE': '177.7077', 'ARG_OF_PERICENTER': '32.4756', 'MEAN_ANOMALY': '338.5653', 'EPHEMERIS_TYPE': '0', 'CLASSIFICATION_TYPE': 'U', 'NORAD_CAT_ID': '16', 'ELEMENT_SET_NO': '999', 'REV_AT_EPOCH': '61506', 'BSTAR': '0.00081647000000', 'MEAN_MOTION_DOT': '0.00000579', 'MEAN_MOTION_DDOT': '0.0000000000000', 'SEMIMAJOR_AXIS': '8813.128', 'PERIOD': '137.232', 'APOAPSIS': '4219.602', 'PERIAPSIS': '650.384', 'OBJECT_TYPE': 'ROCKET BODY', 'RCS_SIZE': 'MEDIUM', 'COUNTRY_CODE': 'US', 'LAUNCH_DATE': '1958-03-17', 'SITE': 'AFETR', 'DECAY_DATE': None, 'FILE': '4378423', 'GP_ID': '261994187', 'TLE_LINE0': '0 VANGUARD R/B', 'TLE_LINE1': '1 00016U 58002A   24196.31366735  .00000579  00000-0  81647-3 0  9998', 'TLE_LINE2': '2 00016  34.2584 177.7077 2024944  32.4756 338.5653 10.49319259615067'}\n",
      "\n",
      "Sample 5: {'CCSDS_OMM_VERS': '3.0', 'COMMENT': 'GENERATED VIA SPACE-TRACK.ORG API', 'CREATION_DATE': '2024-07-14T19:15:06', 'ORIGINATOR': '18 SPCS', 'OBJECT_NAME': 'VANGUARD 3', 'OBJECT_ID': '1959-007A', 'CENTER_NAME': 'EARTH', 'REF_FRAME': 'TEME', 'TIME_SYSTEM': 'UTC', 'MEAN_ELEMENT_THEORY': 'SGP4', 'EPOCH': '2024-07-14T12:44:55.314528', 'MEAN_MOTION': '11.59103885', 'ECCENTRICITY': '0.16508020', 'INCLINATION': '33.3540', 'RA_OF_ASC_NODE': '272.1145', 'ARG_OF_PERICENTER': '253.4881', 'MEAN_ANOMALY': '87.8592', 'EPHEMERIS_TYPE': '0', 'CLASSIFICATION_TYPE': 'U', 'NORAD_CAT_ID': '20', 'ELEMENT_SET_NO': '999', 'REV_AT_EPOCH': '40294', 'BSTAR': '0.00131370000000', 'MEAN_MOTION_DOT': '0.00003290', 'MEAN_MOTION_DDOT': '0.0000000000000', 'SEMIMAJOR_AXIS': '8247.461', 'PERIOD': '124.234', 'APOAPSIS': '3230.818', 'PERIAPSIS': '507.833', 'OBJECT_TYPE': 'PAYLOAD', 'RCS_SIZE': 'MEDIUM', 'COUNTRY_CODE': 'US', 'LAUNCH_DATE': '1959-09-18', 'SITE': 'AFETR', 'DECAY_DATE': None, 'FILE': '4378423', 'GP_ID': '261993688', 'TLE_LINE0': '0 VANGUARD 3', 'TLE_LINE1': '1 00020U 59007A   24196.53119577  .00003290  00000-0  13137-2 0  9994', 'TLE_LINE2': '2 00020  33.3540 272.1145 1650802 253.4881  87.8592 11.59103885402946'}\n",
      "\n"
     ]
    }
   ],
   "source": [
    "ju.samplep(gp_data)"
   ]
  },
  {
   "cell_type": "code",
   "execution_count": 7,
   "metadata": {},
   "outputs": [
    {
     "name": "stdout",
     "output_type": "stream",
     "text": [
      "{\n",
      "    \"CCSDS_OMM_VERS\": \"3.0\",\n",
      "    \"COMMENT\": \"GENERATED VIA SPACE-TRACK.ORG API\",\n",
      "    \"CREATION_DATE\": \"2024-07-14T14:46:23\",\n",
      "    \"ORIGINATOR\": \"18 SPCS\",\n",
      "    \"OBJECT_NAME\": \"VANGUARD 2\",\n",
      "    \"OBJECT_ID\": \"1959-001A\",\n",
      "    \"CENTER_NAME\": \"EARTH\",\n",
      "    \"REF_FRAME\": \"TEME\",\n",
      "    \"TIME_SYSTEM\": \"UTC\",\n",
      "    \"MEAN_ELEMENT_THEORY\": \"SGP4\",\n",
      "    \"EPOCH\": \"2024-07-14T12:12:52.301088\",\n",
      "    \"MEAN_MOTION\": \"11.88522864\",\n",
      "    \"ECCENTRICITY\": \"0.14552670\",\n",
      "    \"INCLINATION\": \"32.8642\",\n",
      "    \"RA_OF_ASC_NODE\": \"221.1274\",\n",
      "    \"ARG_OF_PERICENTER\": \"23.2198\",\n",
      "    \"MEAN_ANOMALY\": \"342.7903\",\n",
      "    \"EPHEMERIS_TYPE\": \"0\",\n",
      "    \"CLASSIFICATION_TYPE\": \"U\",\n",
      "    \"NORAD_CAT_ID\": \"11\",\n",
      "    \"ELEMENT_SET_NO\": \"999\",\n",
      "    \"REV_AT_EPOCH\": \"79350\",\n",
      "    \"BSTAR\": \"0.00064010000000\",\n",
      "    \"MEAN_MOTION_DOT\": \"0.00001209\",\n",
      "    \"MEAN_MOTION_DDOT\": \"0.0000000000000\",\n",
      "    \"SEMIMAJOR_AXIS\": \"8110.796\",\n",
      "    \"PERIOD\": \"121.159\",\n",
      "    \"APOAPSIS\": \"2912.998\",\n",
      "    \"PERIAPSIS\": \"552.324\",\n",
      "    \"OBJECT_TYPE\": \"PAYLOAD\",\n",
      "    \"RCS_SIZE\": \"MEDIUM\",\n",
      "    \"COUNTRY_CODE\": \"US\",\n",
      "    \"LAUNCH_DATE\": \"1959-02-17\",\n",
      "    \"SITE\": \"AFETR\",\n",
      "    \"DECAY_DATE\": null,\n",
      "    \"FILE\": \"4378036\",\n",
      "    \"GP_ID\": \"261987006\",\n",
      "    \"TLE_LINE0\": \"0 VANGUARD 2\",\n",
      "    \"TLE_LINE1\": \"1    11U 59001A   24196.50893867  .00001209  00000-0  64010-3 0  9991\",\n",
      "    \"TLE_LINE2\": \"2    11  32.8642 221.1274 1455267  23.2198 342.7903 11.88522864793500\"\n",
      "}\n"
     ]
    }
   ],
   "source": [
    "ju.pprint(gp_data[1])"
   ]
  },
  {
   "cell_type": "code",
   "execution_count": null,
   "metadata": {},
   "outputs": [],
   "source": []
  }
 ],
 "metadata": {
  "kernelspec": {
   "display_name": "Python 3",
   "language": "python",
   "name": "python3"
  },
  "language_info": {
   "codemirror_mode": {
    "name": "ipython",
    "version": 3
   },
   "file_extension": ".py",
   "mimetype": "text/x-python",
   "name": "python",
   "nbconvert_exporter": "python",
   "pygments_lexer": "ipython3",
   "version": "3.10.6"
  }
 },
 "nbformat": 4,
 "nbformat_minor": 2
}
